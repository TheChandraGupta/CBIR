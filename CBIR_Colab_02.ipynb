{
  "nbformat": 4,
  "nbformat_minor": 0,
  "metadata": {
    "colab": {
      "name": "CBIR_01.ipynb",
      "version": "0.3.2",
      "provenance": [],
      "toc_visible": true,
      "include_colab_link": true
    },
    "language_info": {
      "codemirror_mode": {
        "name": "ipython",
        "version": 3
      },
      "file_extension": ".py",
      "mimetype": "text/x-python",
      "name": "python",
      "nbconvert_exporter": "python",
      "pygments_lexer": "ipython3",
      "version": "3.6.8"
    },
    "kernelspec": {
      "display_name": "Python 3",
      "language": "python",
      "name": "python3"
    }
  },
  "cells": [
    {
      "cell_type": "markdown",
      "metadata": {
        "id": "view-in-github",
        "colab_type": "text"
      },
      "source": [
        "<a href=\"https://colab.research.google.com/github/thegreatgupta/CBIR/blob/master/CBIR_Colab_02.ipynb\" target=\"_parent\"><img src=\"https://colab.research.google.com/assets/colab-badge.svg\" alt=\"Open In Colab\"/></a>"
      ]
    },
    {
      "metadata": {
        "id": "lX9Znd7329uQ",
        "colab_type": "text"
      },
      "cell_type": "markdown",
      "source": [
        "# Content Based Image Recommendation\n",
        "\n",
        "Content Based Image Recommendation or CBIR is a new way of Search Engine which enables a user to Search for similar images over the network with the help of images directly. "
      ]
    },
    {
      "metadata": {
        "id": "Kpm-q49c7WPY",
        "colab_type": "text"
      },
      "cell_type": "markdown",
      "source": [
        "**Clone the Github Repository to Google Colab along with the Dataset.**"
      ]
    },
    {
      "metadata": {
        "id": "fCqLlp7O7S2m",
        "colab_type": "code",
        "colab": {
          "base_uri": "https://localhost:8080/",
          "height": 158
        },
        "outputId": "4347a111-d207-4363-8597-9cc2f22bc6c4"
      },
      "cell_type": "code",
      "source": [
        "!git clone https://github.com/thegreatgupta/CBIR.git"
      ],
      "execution_count": 1,
      "outputs": [
        {
          "output_type": "stream",
          "text": [
            "Cloning into 'CBIR'...\n",
            "remote: Enumerating objects: 60163, done.\u001b[K\n",
            "remote: Counting objects: 100% (60163/60163), done.\u001b[K\n",
            "remote: Compressing objects: 100% (60059/60059), done.\u001b[K\n",
            "remote: Total 60163 (delta 106), reused 60154 (delta 103), pack-reused 0\n",
            "Receiving objects: 100% (60163/60163), 159.37 MiB | 31.70 MiB/s, done.\n",
            "Resolving deltas: 100% (106/106), done.\n",
            "Checking out files: 100% (60215/60215), done.\n"
          ],
          "name": "stdout"
        }
      ]
    },
    {
      "metadata": {
        "id": "eflXaVFj7_AF",
        "colab_type": "code",
        "colab": {
          "base_uri": "https://localhost:8080/",
          "height": 34
        },
        "outputId": "4eb518ab-65b9-4e00-8015-2920feaf52bd"
      },
      "cell_type": "code",
      "source": [
        "!ls"
      ],
      "execution_count": 1,
      "outputs": [
        {
          "output_type": "stream",
          "text": [
            "CBIR  sample_data\n"
          ],
          "name": "stdout"
        }
      ]
    },
    {
      "metadata": {
        "id": "TAWwMCwf8DAX",
        "colab_type": "code",
        "colab": {
          "base_uri": "https://localhost:8080/",
          "height": 34
        },
        "outputId": "584e11ad-e56e-4ca4-93f9-cdbb60bc7ca6"
      },
      "cell_type": "code",
      "source": [
        "cd CBIR"
      ],
      "execution_count": 2,
      "outputs": [
        {
          "output_type": "stream",
          "text": [
            "/content/CBIR\n"
          ],
          "name": "stdout"
        }
      ]
    },
    {
      "metadata": {
        "id": "qD6Rs4ml8OQt",
        "colab_type": "code",
        "colab": {
          "base_uri": "https://localhost:8080/",
          "height": 70
        },
        "outputId": "6e00827e-deda-400a-c09b-f01935251981"
      },
      "cell_type": "code",
      "source": [
        "!ls"
      ],
      "execution_count": 3,
      "outputs": [
        {
          "output_type": "stream",
          "text": [
            "CBIR_01.ipynb\t LICENSE\t      model_trail.py\t weight.h5\n",
            "dataset\t\t model\t\t      model_training.py\n",
            "json_model.json  model_evaluation.py  README.md\n"
          ],
          "name": "stdout"
        }
      ]
    },
    {
      "metadata": {
        "id": "TNGA0lpX29uU",
        "colab_type": "text"
      },
      "cell_type": "markdown",
      "source": [
        "### Import Required Packages"
      ]
    },
    {
      "metadata": {
        "id": "20RWatEH29uV",
        "colab_type": "code",
        "colab": {
          "base_uri": "https://localhost:8080/",
          "height": 34
        },
        "outputId": "28773514-2ea0-4d90-f479-afa972770803"
      },
      "cell_type": "code",
      "source": [
        "import pandas as pd\n",
        "import numpy as np\n",
        "import cv2\n",
        "import os\n",
        "import keras\n",
        "import matplotlib.pyplot as plt\n",
        "from keras.applications.mobilenet import MobileNet, preprocess_input\n",
        "from keras.applications.imagenet_utils import decode_predictions\n",
        "from keras.layers import Dense,GlobalAveragePooling2D, Dropout\n",
        "from keras.preprocessing import image\n",
        "from keras.preprocessing.image import ImageDataGenerator, load_img, img_to_array, save_img\n",
        "from keras.models import Model, load_model\n",
        "from keras.optimizers import Adam"
      ],
      "execution_count": 4,
      "outputs": [
        {
          "output_type": "stream",
          "text": [
            "Using TensorFlow backend.\n"
          ],
          "name": "stderr"
        }
      ]
    },
    {
      "metadata": {
        "id": "aZxX1IWQ29ue",
        "colab_type": "text"
      },
      "cell_type": "markdown",
      "source": [
        "#### Step - 1 : Data Preprocessing"
      ]
    },
    {
      "metadata": {
        "id": "GZyWzT6U29uf",
        "colab_type": "code",
        "colab": {}
      },
      "cell_type": "code",
      "source": [
        "#BASE_PATH = 'F:/GIT/CBIR/'\n",
        "BASE_PATH = ''\n",
        "annotation = pd.read_csv(BASE_PATH + 'dataset/annotation.txt', delimiter='\\t') "
      ],
      "execution_count": 0,
      "outputs": []
    },
    {
      "metadata": {
        "id": "tdB4BKJP29uh",
        "colab_type": "code",
        "colab": {
          "base_uri": "https://localhost:8080/",
          "height": 197
        },
        "outputId": "89956388-ded6-4ab3-f2cb-0ba64a335316"
      },
      "cell_type": "code",
      "source": [
        "annotation.head()"
      ],
      "execution_count": 6,
      "outputs": [
        {
          "output_type": "execute_result",
          "data": {
            "text/html": [
              "<div>\n",
              "<style scoped>\n",
              "    .dataframe tbody tr th:only-of-type {\n",
              "        vertical-align: middle;\n",
              "    }\n",
              "\n",
              "    .dataframe tbody tr th {\n",
              "        vertical-align: top;\n",
              "    }\n",
              "\n",
              "    .dataframe thead th {\n",
              "        text-align: right;\n",
              "    }\n",
              "</style>\n",
              "<table border=\"1\" class=\"dataframe\">\n",
              "  <thead>\n",
              "    <tr style=\"text-align: right;\">\n",
              "      <th></th>\n",
              "      <th>filename</th>\n",
              "      <th>color</th>\n",
              "      <th>micro_category</th>\n",
              "      <th>macro_category</th>\n",
              "      <th>macro_category(english)</th>\n",
              "      <th>Unnamed: 5</th>\n",
              "      <th>Unnamed: 6</th>\n",
              "      <th>Unnamed: 7</th>\n",
              "    </tr>\n",
              "  </thead>\n",
              "  <tbody>\n",
              "    <tr>\n",
              "      <th>0</th>\n",
              "      <td>35154736FEF.jpg</td>\n",
              "      <td>BRONZO</td>\n",
              "      <td>GONNA PELLE</td>\n",
              "      <td>ABBIGLIAMENTO PELLE</td>\n",
              "      <td>leather</td>\n",
              "      <td>NaN</td>\n",
              "      <td>NaN</td>\n",
              "      <td>NaN</td>\n",
              "    </tr>\n",
              "    <tr>\n",
              "      <th>1</th>\n",
              "      <td>35157444XDF.jpg</td>\n",
              "      <td>PLATINO</td>\n",
              "      <td>GONNA PELLE</td>\n",
              "      <td>ABBIGLIAMENTO PELLE</td>\n",
              "      <td>leather</td>\n",
              "      <td>NaN</td>\n",
              "      <td>NaN</td>\n",
              "      <td>NaN</td>\n",
              "    </tr>\n",
              "    <tr>\n",
              "      <th>2</th>\n",
              "      <td>35157749QFF.jpg</td>\n",
              "      <td>NOCCIOLA</td>\n",
              "      <td>GONNA PELLE</td>\n",
              "      <td>ABBIGLIAMENTO PELLE</td>\n",
              "      <td>leather</td>\n",
              "      <td>NaN</td>\n",
              "      <td>NaN</td>\n",
              "      <td>NaN</td>\n",
              "    </tr>\n",
              "    <tr>\n",
              "      <th>3</th>\n",
              "      <td>35165506NDF.jpg</td>\n",
              "      <td>ORO</td>\n",
              "      <td>GONNA PELLE</td>\n",
              "      <td>ABBIGLIAMENTO PELLE</td>\n",
              "      <td>leather</td>\n",
              "      <td>NaN</td>\n",
              "      <td>NaN</td>\n",
              "      <td>NaN</td>\n",
              "    </tr>\n",
              "    <tr>\n",
              "      <th>4</th>\n",
              "      <td>35167181CRF.jpg</td>\n",
              "      <td>ANTRACITE</td>\n",
              "      <td>GONNA PELLE</td>\n",
              "      <td>ABBIGLIAMENTO PELLE</td>\n",
              "      <td>leather</td>\n",
              "      <td>NaN</td>\n",
              "      <td>NaN</td>\n",
              "      <td>NaN</td>\n",
              "    </tr>\n",
              "  </tbody>\n",
              "</table>\n",
              "</div>"
            ],
            "text/plain": [
              "          filename      color micro_category       macro_category  \\\n",
              "0  35154736FEF.jpg     BRONZO    GONNA PELLE  ABBIGLIAMENTO PELLE   \n",
              "1  35157444XDF.jpg    PLATINO    GONNA PELLE  ABBIGLIAMENTO PELLE   \n",
              "2  35157749QFF.jpg   NOCCIOLA    GONNA PELLE  ABBIGLIAMENTO PELLE   \n",
              "3  35165506NDF.jpg        ORO    GONNA PELLE  ABBIGLIAMENTO PELLE   \n",
              "4  35167181CRF.jpg  ANTRACITE    GONNA PELLE  ABBIGLIAMENTO PELLE   \n",
              "\n",
              "  macro_category(english)  Unnamed: 5  Unnamed: 6  Unnamed: 7  \n",
              "0                 leather         NaN         NaN         NaN  \n",
              "1                 leather         NaN         NaN         NaN  \n",
              "2                 leather         NaN         NaN         NaN  \n",
              "3                 leather         NaN         NaN         NaN  \n",
              "4                 leather         NaN         NaN         NaN  "
            ]
          },
          "metadata": {
            "tags": []
          },
          "execution_count": 6
        }
      ]
    },
    {
      "metadata": {
        "id": "eQJCHigr29ul",
        "colab_type": "code",
        "colab": {
          "base_uri": "https://localhost:8080/",
          "height": 197
        },
        "outputId": "96e801ea-dd4c-430d-cce7-103851f1aaee"
      },
      "cell_type": "code",
      "source": [
        "annotation = annotation[['filename', 'color', 'micro_category', 'macro_category', 'macro_category(english)']]\n",
        "annotation.head()"
      ],
      "execution_count": 7,
      "outputs": [
        {
          "output_type": "execute_result",
          "data": {
            "text/html": [
              "<div>\n",
              "<style scoped>\n",
              "    .dataframe tbody tr th:only-of-type {\n",
              "        vertical-align: middle;\n",
              "    }\n",
              "\n",
              "    .dataframe tbody tr th {\n",
              "        vertical-align: top;\n",
              "    }\n",
              "\n",
              "    .dataframe thead th {\n",
              "        text-align: right;\n",
              "    }\n",
              "</style>\n",
              "<table border=\"1\" class=\"dataframe\">\n",
              "  <thead>\n",
              "    <tr style=\"text-align: right;\">\n",
              "      <th></th>\n",
              "      <th>filename</th>\n",
              "      <th>color</th>\n",
              "      <th>micro_category</th>\n",
              "      <th>macro_category</th>\n",
              "      <th>macro_category(english)</th>\n",
              "    </tr>\n",
              "  </thead>\n",
              "  <tbody>\n",
              "    <tr>\n",
              "      <th>0</th>\n",
              "      <td>35154736FEF.jpg</td>\n",
              "      <td>BRONZO</td>\n",
              "      <td>GONNA PELLE</td>\n",
              "      <td>ABBIGLIAMENTO PELLE</td>\n",
              "      <td>leather</td>\n",
              "    </tr>\n",
              "    <tr>\n",
              "      <th>1</th>\n",
              "      <td>35157444XDF.jpg</td>\n",
              "      <td>PLATINO</td>\n",
              "      <td>GONNA PELLE</td>\n",
              "      <td>ABBIGLIAMENTO PELLE</td>\n",
              "      <td>leather</td>\n",
              "    </tr>\n",
              "    <tr>\n",
              "      <th>2</th>\n",
              "      <td>35157749QFF.jpg</td>\n",
              "      <td>NOCCIOLA</td>\n",
              "      <td>GONNA PELLE</td>\n",
              "      <td>ABBIGLIAMENTO PELLE</td>\n",
              "      <td>leather</td>\n",
              "    </tr>\n",
              "    <tr>\n",
              "      <th>3</th>\n",
              "      <td>35165506NDF.jpg</td>\n",
              "      <td>ORO</td>\n",
              "      <td>GONNA PELLE</td>\n",
              "      <td>ABBIGLIAMENTO PELLE</td>\n",
              "      <td>leather</td>\n",
              "    </tr>\n",
              "    <tr>\n",
              "      <th>4</th>\n",
              "      <td>35167181CRF.jpg</td>\n",
              "      <td>ANTRACITE</td>\n",
              "      <td>GONNA PELLE</td>\n",
              "      <td>ABBIGLIAMENTO PELLE</td>\n",
              "      <td>leather</td>\n",
              "    </tr>\n",
              "  </tbody>\n",
              "</table>\n",
              "</div>"
            ],
            "text/plain": [
              "          filename      color micro_category       macro_category  \\\n",
              "0  35154736FEF.jpg     BRONZO    GONNA PELLE  ABBIGLIAMENTO PELLE   \n",
              "1  35157444XDF.jpg    PLATINO    GONNA PELLE  ABBIGLIAMENTO PELLE   \n",
              "2  35157749QFF.jpg   NOCCIOLA    GONNA PELLE  ABBIGLIAMENTO PELLE   \n",
              "3  35165506NDF.jpg        ORO    GONNA PELLE  ABBIGLIAMENTO PELLE   \n",
              "4  35167181CRF.jpg  ANTRACITE    GONNA PELLE  ABBIGLIAMENTO PELLE   \n",
              "\n",
              "  macro_category(english)  \n",
              "0                 leather  \n",
              "1                 leather  \n",
              "2                 leather  \n",
              "3                 leather  \n",
              "4                 leather  "
            ]
          },
          "metadata": {
            "tags": []
          },
          "execution_count": 7
        }
      ]
    },
    {
      "metadata": {
        "id": "w85_6N2z29up",
        "colab_type": "code",
        "colab": {
          "base_uri": "https://localhost:8080/",
          "height": 197
        },
        "outputId": "73285d9d-bccf-4b51-cac2-ca4d8daab5ff"
      },
      "cell_type": "code",
      "source": [
        "data_category_01 = annotation[['filename', 'macro_category(english)']]\n",
        "data_category_01.head()"
      ],
      "execution_count": 8,
      "outputs": [
        {
          "output_type": "execute_result",
          "data": {
            "text/html": [
              "<div>\n",
              "<style scoped>\n",
              "    .dataframe tbody tr th:only-of-type {\n",
              "        vertical-align: middle;\n",
              "    }\n",
              "\n",
              "    .dataframe tbody tr th {\n",
              "        vertical-align: top;\n",
              "    }\n",
              "\n",
              "    .dataframe thead th {\n",
              "        text-align: right;\n",
              "    }\n",
              "</style>\n",
              "<table border=\"1\" class=\"dataframe\">\n",
              "  <thead>\n",
              "    <tr style=\"text-align: right;\">\n",
              "      <th></th>\n",
              "      <th>filename</th>\n",
              "      <th>macro_category(english)</th>\n",
              "    </tr>\n",
              "  </thead>\n",
              "  <tbody>\n",
              "    <tr>\n",
              "      <th>0</th>\n",
              "      <td>35154736FEF.jpg</td>\n",
              "      <td>leather</td>\n",
              "    </tr>\n",
              "    <tr>\n",
              "      <th>1</th>\n",
              "      <td>35157444XDF.jpg</td>\n",
              "      <td>leather</td>\n",
              "    </tr>\n",
              "    <tr>\n",
              "      <th>2</th>\n",
              "      <td>35157749QFF.jpg</td>\n",
              "      <td>leather</td>\n",
              "    </tr>\n",
              "    <tr>\n",
              "      <th>3</th>\n",
              "      <td>35165506NDF.jpg</td>\n",
              "      <td>leather</td>\n",
              "    </tr>\n",
              "    <tr>\n",
              "      <th>4</th>\n",
              "      <td>35167181CRF.jpg</td>\n",
              "      <td>leather</td>\n",
              "    </tr>\n",
              "  </tbody>\n",
              "</table>\n",
              "</div>"
            ],
            "text/plain": [
              "          filename macro_category(english)\n",
              "0  35154736FEF.jpg                 leather\n",
              "1  35157444XDF.jpg                 leather\n",
              "2  35157749QFF.jpg                 leather\n",
              "3  35165506NDF.jpg                 leather\n",
              "4  35167181CRF.jpg                 leather"
            ]
          },
          "metadata": {
            "tags": []
          },
          "execution_count": 8
        }
      ]
    },
    {
      "metadata": {
        "id": "6V3o-4iD29us",
        "colab_type": "code",
        "colab": {
          "base_uri": "https://localhost:8080/",
          "height": 621
        },
        "outputId": "4e890090-0770-4386-eb98-37a917a84794"
      },
      "cell_type": "code",
      "source": [
        "count = 0\n",
        "for name, groups in data_category_01.groupby('macro_category(english)'):\n",
        "    print(name)\n",
        "    count += 1\n",
        "\n",
        "print(count)"
      ],
      "execution_count": 9,
      "outputs": [
        {
          "output_type": "stream",
          "text": [
            "accessories\n",
            "bags\n",
            "coats\n",
            "diaries\n",
            "dresses\n",
            "eye glasses\n",
            "fitness\n",
            "footwear\n",
            "furnishings\n",
            "furniture\n",
            "gift ideas\n",
            "jeans\n",
            "jewellery\n",
            "knitwear\n",
            "leather\n",
            "lighting\n",
            "nursing\n",
            "overalls\n",
            "pants\n",
            "pets\n",
            "sea & swimming pool\n",
            "shirts\n",
            "skirts\n",
            "sportswear\n",
            "suitcases\n",
            "suits\n",
            "tables & kitchen\n",
            "tailleur\n",
            "tech gadget\n",
            "textile\n",
            "top wear\n",
            "toys\n",
            "watches/clocks\n",
            "33\n"
          ],
          "name": "stdout"
        }
      ]
    },
    {
      "metadata": {
        "id": "3btcSlvM29uw",
        "colab_type": "text"
      },
      "cell_type": "markdown",
      "source": [
        "###### Below Code is commented.\n",
        "It is used to convert the Dataset downloaded to required size and store in Local Directory.\n",
        "It is done to convert and store the whole dataset at Github. This is done totally bacause of Computation."
      ]
    },
    {
      "metadata": {
        "id": "x585qr7O29ux",
        "colab_type": "raw"
      },
      "cell_type": "markdown",
      "source": [
        "```\n",
        "i=0\n",
        "count = 0\n",
        "for filename in data_category_01.values:\n",
        "    try:\n",
        "        image_load_path = BASE_PATH + 'dataset/images/' + filename[0].split('.')[0] + '_resized.' + filename[0].split('.')[1]\n",
        "        img = img_to_array(load_img(image_load_path, target_size=(128, 128, 3)))\n",
        "        image_save_path = BASE_PATH + 'dataset/img_128_128/' + filename[0]\n",
        "        save_img(image_save_path, img)\n",
        "        i += 1\n",
        "        if i % 1000 == 0:\n",
        "            print(i)\n",
        "    except:\n",
        "        print('File Not Found ' + filename)\n",
        "        count += 1\n",
        "        \n",
        "# This is formatted as code\n",
        "```\n",
        "\n",
        "\n",
        "\n"
      ]
    },
    {
      "metadata": {
        "id": "uQVo3QbI29uy",
        "colab_type": "code",
        "colab": {}
      },
      "cell_type": "code",
      "source": [
        "image_array = np.ndarray(shape=(len(data_category_01), 64, 64, 3), dtype=float)"
      ],
      "execution_count": 0,
      "outputs": []
    },
    {
      "metadata": {
        "id": "JcWQ6wNj29u0",
        "colab_type": "code",
        "colab": {
          "base_uri": "https://localhost:8080/",
          "height": 1101
        },
        "outputId": "da3ef770-e41f-4ebf-e909-32e488e7d9ac"
      },
      "cell_type": "code",
      "source": [
        "i=0\n",
        "count = 0\n",
        "for filename in data_category_01.values:\n",
        "    try:\n",
        "        #image_load_path = 'dataset/images/' + filename[0].split('.')[0] + '_resized.' + filename[0].split('.')[1]\n",
        "        image_load_path = BASE_PATH + 'dataset/img_128_128/' + filename[0]\n",
        "        #print(image_load_path)\n",
        "        img = img_to_array(load_img(image_load_path, target_size=(64, 64, 3)))\n",
        "        img = img / 255\n",
        "        image_array[i] = img\n",
        "        #np.append(image_array, img)\n",
        "        i += 1\n",
        "        if i % 1000 == 0:\n",
        "            print(i)\n",
        "    except:\n",
        "        print('File Not Found ' + filename[0])\n",
        "        count += 1\n",
        "    \n",
        "print('Count:' + str(count))"
      ],
      "execution_count": 11,
      "outputs": [
        {
          "output_type": "stream",
          "text": [
            "1000\n",
            "2000\n",
            "3000\n",
            "4000\n",
            "5000\n",
            "6000\n",
            "7000\n",
            "8000\n",
            "9000\n",
            "10000\n",
            "11000\n",
            "12000\n",
            "13000\n",
            "14000\n",
            "15000\n",
            "16000\n",
            "17000\n",
            "18000\n",
            "19000\n",
            "20000\n",
            "21000\n",
            "22000\n",
            "23000\n",
            "24000\n",
            "25000\n",
            "26000\n",
            "27000\n",
            "28000\n",
            "29000\n",
            "30000\n",
            "31000\n",
            "32000\n",
            "33000\n",
            "34000\n",
            "35000\n",
            "36000\n",
            "37000\n",
            "38000\n",
            "39000\n",
            "40000\n",
            "41000\n",
            "42000\n",
            "43000\n",
            "44000\n",
            "45000\n",
            "46000\n",
            "47000\n",
            "48000\n",
            "49000\n",
            "50000\n",
            "51000\n",
            "52000\n",
            "53000\n",
            "54000\n",
            "55000\n",
            "56000\n",
            "57000\n",
            "58000\n",
            "59000\n",
            "60000\n",
            "Count:0\n"
          ],
          "name": "stdout"
        }
      ]
    },
    {
      "metadata": {
        "id": "VvuHWy3j29u4",
        "colab_type": "text"
      },
      "cell_type": "markdown",
      "source": [
        "###### Split the Dataset into Train and Test Dataset and Save it into two different folders i.e. training_set and test_set"
      ]
    },
    {
      "metadata": {
        "id": "BnAbCbEM29u5",
        "colab_type": "code",
        "colab": {}
      },
      "cell_type": "code",
      "source": [
        "from sklearn.model_selection import train_test_split\n",
        "\n",
        "X_train, X_test, y_train, y_test = train_test_split(image_array, data_category_01, test_size=0.15)"
      ],
      "execution_count": 0,
      "outputs": []
    },
    {
      "metadata": {
        "id": "Axt4Pjs129u8",
        "colab_type": "code",
        "colab": {}
      },
      "cell_type": "code",
      "source": [
        "image_array.resize(1)"
      ],
      "execution_count": 0,
      "outputs": []
    },
    {
      "metadata": {
        "id": "Z8CVQ32PAX2j",
        "colab_type": "code",
        "colab": {
          "base_uri": "https://localhost:8080/",
          "height": 34
        },
        "outputId": "92a3aa74-aca3-4353-a1a5-7938347ba5c2"
      },
      "cell_type": "code",
      "source": [
        "image_array.shape"
      ],
      "execution_count": 14,
      "outputs": [
        {
          "output_type": "execute_result",
          "data": {
            "text/plain": [
              "(1,)"
            ]
          },
          "metadata": {
            "tags": []
          },
          "execution_count": 14
        }
      ]
    },
    {
      "metadata": {
        "id": "PwyLTxcoAbeK",
        "colab_type": "code",
        "colab": {}
      },
      "cell_type": "code",
      "source": [
        ""
      ],
      "execution_count": 0,
      "outputs": []
    }
  ]
}